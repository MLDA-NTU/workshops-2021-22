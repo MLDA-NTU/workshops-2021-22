{
  "cells": [
    {
      "cell_type": "markdown",
      "metadata": {
        "id": "2gb4jTYx3bpp"
      },
      "source": [
        "# Early Reinforcement Learning\n",
        "\n",
        "With the advances of modern computing power, the study of Reinforcement Learning is having a heyday. Machines are now able to learn complex tasks once thought to be solely in the domain of humans, from controlling the [heating and cooling in massive data centers](https://www.technologyreview.com/s/611902/google-just-gave-control-over-data-center-cooling-to-an-ai/) to beating [grandmasters at Starcraft](https://storage.googleapis.com/deepmind-media/research/alphastar/AlphaStar_unformatted.pdf). As magnificent as it may seem today, it had humble roots many decades ago. Seeing how far it's come, it's a wonder to see how far it will go!\n",
        "\n",
        "Let's take a step back in time to see how these early algorithms developed. Many of these algorithms make sense given the context of when they were created. Challenge yourself and see if you can come up with the same strategies given the right problem. Ok! Time to cozy up for a story.\n",
        "\n",
        "<img src=\"https://github.com/Toefinder/MLDA/blob/main/ReinforcementLearning2021/images/hero.jpg?raw=1\" width=\"488\" height=\"172\">\n",
        "\n",
        "This is the hero of our story, the gumdrop emoji. It was enjoying a cool winter day building a snowman when suddenly, it slipped and fell on a frozen lake of death.\n",
        "\n",
        "\n",
        "<img src=\"https://github.com/Toefinder/MLDA/blob/main/ReinforcementLearning2021/images/lake.jpg?raw=1\" width=\"900\" height=\"680\">\n",
        "\n",
        "The lake can be thought of as a 4 x 4 grid where the gumdrop can move left (0), down (1), right (2) and up (3). Unfortunately, this frozen lake of death has holes of death where if the gumdrop enters that square, it will fall in and meet an untimely demise. To make matters worse, the lake is surrounded by icy boulders that if the gumdrop attempts to climb, will have it slip back into its original position. Thankfully, at the bottom right of the lake is a safe ramp that leads to a nice warm cup of hot cocoa.\n",
        "\n",
        "## Set Up\n",
        "\n",
        "We can try and save the gumdrop ourselves! This is a common game people begin their Reinforcement Learning journey with, and is included in the OpenAI's python package [Gym](https://gym.openai.com/) and is aptly named [FrozenLake-v0](https://gym.openai.com/envs/FrozenLake-v0/) ([code](https://github.com/openai/gym/blob/master/gym/envs/toy_text/frozen_lake.py)). No time to waste, let's get the environment up and running. Run the below to install the needed libraries if they are not installed already."
      ]
    },
    {
      "cell_type": "code",
      "execution_count": null,
      "metadata": {
        "id": "32XN4YpT3bpu",
        "colab": {
          "base_uri": "https://localhost:8080/"
        },
        "outputId": "8666a2c1-6560-47f5-b002-a3e761214179"
      },
      "outputs": [
        {
          "output_type": "stream",
          "name": "stdout",
          "text": [
            "Collecting tensorflow==2.1\n",
            "  Downloading tensorflow-2.1.0-cp37-cp37m-manylinux2010_x86_64.whl (421.8 MB)\n",
            "\u001b[K     |████████████████████████████████| 421.8 MB 24 kB/s \n",
            "\u001b[?25hRequirement already satisfied: keras-preprocessing>=1.1.0 in /usr/local/lib/python3.7/dist-packages (from tensorflow==2.1) (1.1.2)\n",
            "Requirement already satisfied: astor>=0.6.0 in /usr/local/lib/python3.7/dist-packages (from tensorflow==2.1) (0.8.1)\n",
            "Requirement already satisfied: opt-einsum>=2.3.2 in /usr/local/lib/python3.7/dist-packages (from tensorflow==2.1) (3.3.0)\n",
            "Requirement already satisfied: absl-py>=0.7.0 in /usr/local/lib/python3.7/dist-packages (from tensorflow==2.1) (1.0.0)\n",
            "Collecting tensorflow-estimator<2.2.0,>=2.1.0rc0\n",
            "  Downloading tensorflow_estimator-2.1.0-py2.py3-none-any.whl (448 kB)\n",
            "\u001b[K     |████████████████████████████████| 448 kB 31.5 MB/s \n",
            "\u001b[?25hRequirement already satisfied: six>=1.12.0 in /usr/local/lib/python3.7/dist-packages (from tensorflow==2.1) (1.15.0)\n",
            "Requirement already satisfied: google-pasta>=0.1.6 in /usr/local/lib/python3.7/dist-packages (from tensorflow==2.1) (0.2.0)\n",
            "Requirement already satisfied: wheel>=0.26 in /usr/local/lib/python3.7/dist-packages (from tensorflow==2.1) (0.37.1)\n",
            "Collecting gast==0.2.2\n",
            "  Downloading gast-0.2.2.tar.gz (10 kB)\n",
            "Requirement already satisfied: grpcio>=1.8.6 in /usr/local/lib/python3.7/dist-packages (from tensorflow==2.1) (1.44.0)\n",
            "Collecting keras-applications>=1.0.8\n",
            "  Downloading Keras_Applications-1.0.8-py3-none-any.whl (50 kB)\n",
            "\u001b[K     |████████████████████████████████| 50 kB 4.1 MB/s \n",
            "\u001b[?25hRequirement already satisfied: wrapt>=1.11.1 in /usr/local/lib/python3.7/dist-packages (from tensorflow==2.1) (1.13.3)\n",
            "Requirement already satisfied: scipy==1.4.1 in /usr/local/lib/python3.7/dist-packages (from tensorflow==2.1) (1.4.1)\n",
            "Requirement already satisfied: numpy<2.0,>=1.16.0 in /usr/local/lib/python3.7/dist-packages (from tensorflow==2.1) (1.21.5)\n",
            "Requirement already satisfied: termcolor>=1.1.0 in /usr/local/lib/python3.7/dist-packages (from tensorflow==2.1) (1.1.0)\n",
            "Collecting tensorboard<2.2.0,>=2.1.0\n",
            "  Downloading tensorboard-2.1.1-py3-none-any.whl (3.8 MB)\n",
            "\u001b[K     |████████████████████████████████| 3.8 MB 25.9 MB/s \n",
            "\u001b[?25hRequirement already satisfied: protobuf>=3.8.0 in /usr/local/lib/python3.7/dist-packages (from tensorflow==2.1) (3.17.3)\n",
            "Requirement already satisfied: h5py in /usr/local/lib/python3.7/dist-packages (from keras-applications>=1.0.8->tensorflow==2.1) (3.1.0)\n",
            "Requirement already satisfied: requests<3,>=2.21.0 in /usr/local/lib/python3.7/dist-packages (from tensorboard<2.2.0,>=2.1.0->tensorflow==2.1) (2.23.0)\n",
            "Requirement already satisfied: google-auth<2,>=1.6.3 in /usr/local/lib/python3.7/dist-packages (from tensorboard<2.2.0,>=2.1.0->tensorflow==2.1) (1.35.0)\n",
            "Requirement already satisfied: markdown>=2.6.8 in /usr/local/lib/python3.7/dist-packages (from tensorboard<2.2.0,>=2.1.0->tensorflow==2.1) (3.3.6)\n",
            "Requirement already satisfied: werkzeug>=0.11.15 in /usr/local/lib/python3.7/dist-packages (from tensorboard<2.2.0,>=2.1.0->tensorflow==2.1) (1.0.1)\n",
            "Requirement already satisfied: setuptools>=41.0.0 in /usr/local/lib/python3.7/dist-packages (from tensorboard<2.2.0,>=2.1.0->tensorflow==2.1) (57.4.0)\n",
            "Requirement already satisfied: google-auth-oauthlib<0.5,>=0.4.1 in /usr/local/lib/python3.7/dist-packages (from tensorboard<2.2.0,>=2.1.0->tensorflow==2.1) (0.4.6)\n",
            "Requirement already satisfied: cachetools<5.0,>=2.0.0 in /usr/local/lib/python3.7/dist-packages (from google-auth<2,>=1.6.3->tensorboard<2.2.0,>=2.1.0->tensorflow==2.1) (4.2.4)\n",
            "Requirement already satisfied: pyasn1-modules>=0.2.1 in /usr/local/lib/python3.7/dist-packages (from google-auth<2,>=1.6.3->tensorboard<2.2.0,>=2.1.0->tensorflow==2.1) (0.2.8)\n",
            "Requirement already satisfied: rsa<5,>=3.1.4 in /usr/local/lib/python3.7/dist-packages (from google-auth<2,>=1.6.3->tensorboard<2.2.0,>=2.1.0->tensorflow==2.1) (4.8)\n",
            "Requirement already satisfied: requests-oauthlib>=0.7.0 in /usr/local/lib/python3.7/dist-packages (from google-auth-oauthlib<0.5,>=0.4.1->tensorboard<2.2.0,>=2.1.0->tensorflow==2.1) (1.3.1)\n",
            "Requirement already satisfied: importlib-metadata>=4.4 in /usr/local/lib/python3.7/dist-packages (from markdown>=2.6.8->tensorboard<2.2.0,>=2.1.0->tensorflow==2.1) (4.11.1)\n",
            "Requirement already satisfied: typing-extensions>=3.6.4 in /usr/local/lib/python3.7/dist-packages (from importlib-metadata>=4.4->markdown>=2.6.8->tensorboard<2.2.0,>=2.1.0->tensorflow==2.1) (3.10.0.2)\n",
            "Requirement already satisfied: zipp>=0.5 in /usr/local/lib/python3.7/dist-packages (from importlib-metadata>=4.4->markdown>=2.6.8->tensorboard<2.2.0,>=2.1.0->tensorflow==2.1) (3.7.0)\n",
            "Requirement already satisfied: pyasn1<0.5.0,>=0.4.6 in /usr/local/lib/python3.7/dist-packages (from pyasn1-modules>=0.2.1->google-auth<2,>=1.6.3->tensorboard<2.2.0,>=2.1.0->tensorflow==2.1) (0.4.8)\n",
            "Requirement already satisfied: chardet<4,>=3.0.2 in /usr/local/lib/python3.7/dist-packages (from requests<3,>=2.21.0->tensorboard<2.2.0,>=2.1.0->tensorflow==2.1) (3.0.4)\n",
            "Requirement already satisfied: idna<3,>=2.5 in /usr/local/lib/python3.7/dist-packages (from requests<3,>=2.21.0->tensorboard<2.2.0,>=2.1.0->tensorflow==2.1) (2.10)\n",
            "Requirement already satisfied: urllib3!=1.25.0,!=1.25.1,<1.26,>=1.21.1 in /usr/local/lib/python3.7/dist-packages (from requests<3,>=2.21.0->tensorboard<2.2.0,>=2.1.0->tensorflow==2.1) (1.24.3)\n",
            "Requirement already satisfied: certifi>=2017.4.17 in /usr/local/lib/python3.7/dist-packages (from requests<3,>=2.21.0->tensorboard<2.2.0,>=2.1.0->tensorflow==2.1) (2021.10.8)\n",
            "Requirement already satisfied: oauthlib>=3.0.0 in /usr/local/lib/python3.7/dist-packages (from requests-oauthlib>=0.7.0->google-auth-oauthlib<0.5,>=0.4.1->tensorboard<2.2.0,>=2.1.0->tensorflow==2.1) (3.2.0)\n",
            "Requirement already satisfied: cached-property in /usr/local/lib/python3.7/dist-packages (from h5py->keras-applications>=1.0.8->tensorflow==2.1) (1.5.2)\n",
            "Building wheels for collected packages: gast\n",
            "  Building wheel for gast (setup.py) ... \u001b[?25l\u001b[?25hdone\n",
            "  Created wheel for gast: filename=gast-0.2.2-py3-none-any.whl size=7554 sha256=2610a08d5c8ea34ad21350a5ebac03b2199fb19f29a69294dc38d50564c6c44a\n",
            "  Stored in directory: /root/.cache/pip/wheels/21/7f/02/420f32a803f7d0967b48dd823da3f558c5166991bfd204eef3\n",
            "Successfully built gast\n",
            "Installing collected packages: tensorflow-estimator, tensorboard, keras-applications, gast, tensorflow\n",
            "\u001b[33m  WARNING: The script tensorboard is installed in '/root/.local/bin' which is not on PATH.\n",
            "  Consider adding this directory to PATH or, if you prefer to suppress this warning, use --no-warn-script-location.\u001b[0m\n",
            "\u001b[33m  WARNING: The scripts estimator_ckpt_converter, saved_model_cli, tensorboard, tf_upgrade_v2, tflite_convert, toco and toco_from_protos are installed in '/root/.local/bin' which is not on PATH.\n",
            "  Consider adding this directory to PATH or, if you prefer to suppress this warning, use --no-warn-script-location.\u001b[0m\n",
            "\u001b[31mERROR: pip's dependency resolver does not currently take into account all the packages that are installed. This behaviour is the source of the following dependency conflicts.\n",
            "tensorflow-probability 0.16.0 requires gast>=0.3.2, but you have gast 0.2.2 which is incompatible.\u001b[0m\n",
            "Successfully installed gast-0.2.2 keras-applications-1.0.8 tensorboard-2.1.1 tensorflow-2.1.0 tensorflow-estimator-2.1.0\n"
          ]
        }
      ],
      "source": [
        "# Ensure the right version of Tensorflow is installed.\n",
        "!pip install tensorflow==2.1 --user"
      ]
    },
    {
      "cell_type": "markdown",
      "metadata": {
        "id": "AF_XLw6U3bpw"
      },
      "source": [
        "**NOTE**: In the output of the above cell you may ignore any WARNINGS or ERRORS related to the dependency resolver."
      ]
    },
    {
      "cell_type": "markdown",
      "metadata": {
        "id": "-qLzMhU43bpw"
      },
      "source": [
        "If you get any related errors mentioned above please rerun the above cell."
      ]
    },
    {
      "cell_type": "code",
      "execution_count": null,
      "metadata": {
        "id": "zsEUDv4N3bpx",
        "colab": {
          "base_uri": "https://localhost:8080/"
        },
        "outputId": "eb795136-b66c-49ad-98e9-b0459028d0af"
      },
      "outputs": [
        {
          "output_type": "stream",
          "name": "stdout",
          "text": [
            "Collecting gym==0.12.5\n",
            "  Downloading gym-0.12.5.tar.gz (1.5 MB)\n",
            "\u001b[K     |████████████████████████████████| 1.5 MB 5.0 MB/s \n",
            "\u001b[?25hRequirement already satisfied: scipy in /usr/local/lib/python3.7/dist-packages (from gym==0.12.5) (1.4.1)\n",
            "Requirement already satisfied: numpy>=1.10.4 in /usr/local/lib/python3.7/dist-packages (from gym==0.12.5) (1.21.5)\n",
            "Requirement already satisfied: six in /usr/local/lib/python3.7/dist-packages (from gym==0.12.5) (1.15.0)\n",
            "Requirement already satisfied: pyglet>=1.2.0 in /usr/local/lib/python3.7/dist-packages (from gym==0.12.5) (1.5.0)\n",
            "Requirement already satisfied: future in /usr/local/lib/python3.7/dist-packages (from pyglet>=1.2.0->gym==0.12.5) (0.16.0)\n",
            "Building wheels for collected packages: gym\n",
            "  Building wheel for gym (setup.py) ... \u001b[?25l\u001b[?25hdone\n",
            "  Created wheel for gym: filename=gym-0.12.5-py3-none-any.whl size=1613802 sha256=c83d708b19b5b66ddd0513b41e80ffeb74d85bf88483c3c48d59e6e86a4eaef3\n",
            "  Stored in directory: /root/.cache/pip/wheels/05/65/a3/1f1e99de6963e1b6ecc748bdddba8dcb594d6554bbdcfe241f\n",
            "Successfully built gym\n",
            "Installing collected packages: gym\n",
            "Successfully installed gym-0.12.5\n"
          ]
        }
      ],
      "source": [
        "!pip install gym==0.12.5 --user"
      ]
    },
    {
      "cell_type": "markdown",
      "metadata": {
        "id": "wadvDbH33bpx"
      },
      "source": [
        "There are [four methods from Gym](http://gym.openai.com/docs/) that are going to be useful to us in order to save the gumdrop.\n",
        "* `make` allows us to build the environment or game that we can pass actions to\n",
        "* `reset` will reset an environment to it's starting configuration and return the state of the player\n",
        "* `render` displays the environment for human eyes\n",
        "* `step` takes an action and returns the player's next state.\n",
        "\n",
        "Let's make, reset, and render the game. The output is an ANSI string with the following characters:\n",
        "* `S` for starting point\n",
        "* `F` for frozen\n",
        "* `H` for hole\n",
        "* `G` for goal\n",
        "* A red square indicates the current position"
      ]
    },
    {
      "cell_type": "markdown",
      "metadata": {
        "id": "FAdgjXdh3bpy"
      },
      "source": [
        "**Note**: Restart the kernel if the above libraries needed to be installed\n"
      ]
    },
    {
      "cell_type": "code",
      "execution_count": null,
      "metadata": {
        "id": "U2dhhA-J3bpz"
      },
      "outputs": [],
      "source": [
        "import gym\n",
        "import numpy as np\n",
        "import random\n"
      ]
    },
    {
      "cell_type": "code",
      "source": [
        "env = gym.make('FrozenLake-v0', is_slippery=False)"
      ],
      "metadata": {
        "id": "UYgAGrTW9VmQ"
      },
      "execution_count": null,
      "outputs": []
    },
    {
      "cell_type": "code",
      "source": [
        "state = env.reset()"
      ],
      "metadata": {
        "id": "zbsspOLY9VwW"
      },
      "execution_count": null,
      "outputs": []
    },
    {
      "cell_type": "code",
      "source": [
        "env.render()"
      ],
      "metadata": {
        "colab": {
          "base_uri": "https://localhost:8080/"
        },
        "id": "zlDyHIKa9ZbP",
        "outputId": "a12aa367-5ff7-402c-dacf-5767d0d1a42d"
      },
      "execution_count": null,
      "outputs": [
        {
          "output_type": "stream",
          "name": "stdout",
          "text": [
            "\n",
            "\u001b[41mS\u001b[0mFFF\n",
            "FHFH\n",
            "FFFH\n",
            "HFFG\n"
          ]
        }
      ]
    },
    {
      "cell_type": "markdown",
      "metadata": {
        "id": "K3-QtJhk3bp0"
      },
      "source": [
        "If we print the state we'll get `0`. This is telling us which square we're in. Each square is labeled from `0` to `15` from left to right, top to bottom, like this:\n",
        "\n",
        "| | | | |\n",
        "|-|-|-|-|\n",
        "|0|1|2|3|\n",
        "|4|5|6|7|\n",
        "|8|9|10|11|\n",
        "|12|13|14|15|\n"
      ]
    },
    {
      "cell_type": "code",
      "execution_count": null,
      "metadata": {
        "id": "DMAsSXTF3bp0",
        "colab": {
          "base_uri": "https://localhost:8080/"
        },
        "outputId": "735e9348-ab40-4c3e-ae89-2e79eb5fafb8"
      },
      "outputs": [
        {
          "output_type": "stream",
          "name": "stdout",
          "text": [
            "0\n"
          ]
        }
      ],
      "source": [
        "print(state)"
      ]
    },
    {
      "cell_type": "markdown",
      "metadata": {
        "id": "J5vOO7VT3bp1"
      },
      "source": [
        "We can make a simple print function to let us know whether it's game won, game over, or game on."
      ]
    },
    {
      "cell_type": "code",
      "execution_count": null,
      "metadata": {
        "id": "6wYcG9ru3bp1"
      },
      "outputs": [],
      "source": [
        "def print_state(state, done):\n",
        "    statement = \"Still Alive!\"\n",
        "    if done:\n",
        "        statement = \"Cocoa Time!\" if state == 15 else \"Game Over!\" \n",
        "    print(state, \"-\", statement)"
      ]
    },
    {
      "cell_type": "markdown",
      "metadata": {
        "id": "HSdN2BrG3bp2"
      },
      "source": [
        "We can control the gumdrop ourselves with the `step` method. Run the below cell over and over again trying to move from the starting position to the goal. Good luck!"
      ]
    },
    {
      "cell_type": "code",
      "execution_count": null,
      "metadata": {
        "id": "c9L0QY-Q3bp2",
        "colab": {
          "base_uri": "https://localhost:8080/"
        },
        "outputId": "dc7b7cfa-8c6e-4047-ecb7-986367fb940a"
      },
      "outputs": [
        {
          "output_type": "stream",
          "name": "stdout",
          "text": [
            "  (Down)\n",
            "SFFF\n",
            "FH\u001b[41mF\u001b[0mH\n",
            "FFFH\n",
            "HFFG\n",
            "6 - Still Alive!\n"
          ]
        }
      ],
      "source": [
        "#0 left\n",
        "#1 down\n",
        "#2 right\n",
        "#3 up\n",
        "\n",
        "# Uncomment to reset the game\n",
        "#env.reset()\n",
        "action = 1  # Change me, please!\n",
        "state, _, done, _ = env.step(action)\n",
        "env.render()\n",
        "print_state(state, done)"
      ]
    },
    {
      "cell_type": "markdown",
      "metadata": {
        "id": "X-81fmFI3bp3"
      },
      "source": [
        "Were you able to reach the hot chocolate? If so, great job! There are multiple paths through the maze. One solution is `[1, 1, 2, 2, 1, 2]`. Let's loop through our actions in order to get used to interacting with the environment programmatically."
      ]
    },
    {
      "cell_type": "code",
      "execution_count": null,
      "metadata": {
        "id": "w57VcUZy3bp3",
        "colab": {
          "base_uri": "https://localhost:8080/"
        },
        "outputId": "85b46329-486e-4608-c2ad-2e879143746c"
      },
      "outputs": [
        {
          "output_type": "stream",
          "name": "stdout",
          "text": [
            "  (Down)\n",
            "SFFF\n",
            "\u001b[41mF\u001b[0mHFH\n",
            "FFFH\n",
            "HFFG\n",
            "4 - Still Alive!\n",
            "  (Down)\n",
            "SFFF\n",
            "FHFH\n",
            "\u001b[41mF\u001b[0mFFH\n",
            "HFFG\n",
            "8 - Still Alive!\n",
            "  (Right)\n",
            "SFFF\n",
            "FHFH\n",
            "F\u001b[41mF\u001b[0mFH\n",
            "HFFG\n",
            "9 - Still Alive!\n",
            "  (Right)\n",
            "SFFF\n",
            "FHFH\n",
            "FF\u001b[41mF\u001b[0mH\n",
            "HFFG\n",
            "10 - Still Alive!\n",
            "  (Down)\n",
            "SFFF\n",
            "FHFH\n",
            "FFFH\n",
            "HF\u001b[41mF\u001b[0mG\n",
            "14 - Still Alive!\n",
            "  (Right)\n",
            "SFFF\n",
            "FHFH\n",
            "FFFH\n",
            "HFF\u001b[41mG\u001b[0m\n",
            "15 - Cocoa Time!\n"
          ]
        }
      ],
      "source": [
        "def play_game(actions):\n",
        "    state = env.reset()\n",
        "    step = 0\n",
        "    done = False\n",
        "\n",
        "    while not done and step < len(actions):\n",
        "        action = actions[step]\n",
        "        state, _, done, _ = env.step(action)\n",
        "        env.render()\n",
        "        step += 1\n",
        "        print_state(state, done)\n",
        "        \n",
        "actions = [1, 1, 2, 2, 1, 2]  # Replace with your favorite path.\n",
        "play_game(actions)"
      ]
    },
    {
      "cell_type": "markdown",
      "metadata": {
        "id": "3CSMc4lT3bp4"
      },
      "source": [
        "Nice, so we know how to get through the maze, but how do we teach that to the gumdrop? It's just some bytes in an android phone. It doesn't have our human insight.\n",
        "\n",
        "We could give it our list of actions directly, but then it would be copying us and not really learning. This was a tricky one to the mathematicians and computer scientists originally trying to solve this problem. How do we teach a machine to do this without human insight?\n",
        "\n",
        "## Value Iteration\n",
        "\n",
        "Let's turn the clock back on our time machines to 1957 to meet Mr. [Richard Bellman](https://en.wikipedia.org/wiki/Richard_E._Bellman). Bellman started his academic career in mathematics, but due to World War II, left his postgraduate studies at John Hopkins to teach electronics as part of the war effort (as chronicled by J. J. O'Connor and E. F. Robertson [here](https://www-history.mcs.st-andrews.ac.uk/Biographies/Bellman.html)). When the war was over, and it came time for him to focus on his next area of research, he became fascinated with [Dynamic Programming](https://en.wikipedia.org/wiki/Dynamic_programming): the idea of breaking a problem down into sub-problems and using recursion to solve the larger problem.\n",
        "\n",
        "Eventually, his research landed him on [Markov Decision Processes](https://en.wikipedia.org/wiki/Markov_decision_process). These processes are a graphical way of representing how to make a decision based on a current state. States are connected to other states with positive and negative rewards that can be picked up along the way.\n",
        "\n",
        "Sound familiar at all? Perhaps our Frozen Lake?\n",
        "\n",
        "In the lake case, each cell is a state. The `H`s and the `G` are a special type of state called a \"Terminal State\", meaning they can be entered, but they have no leaving connections. What of rewards? Let's say the value of losing our life is the negative opposite of getting to the goal and staying alive. Thus, we can assign the reward of entering a death hole as -1, and the reward of escaping as +1.\n",
        "\n",
        "Bellman's first breakthrough with this type of problem is now known as Value Iteration ([his original paper](http://www.iumj.indiana.edu/IUMJ/FULLTEXT/1957/6/56038)). He introduced a variable, gamma (γ), to represent discounted future rewards. He also introduced a function of policy (π) that takes a state (s), and outputs corresponding suggested action (a). The goal is to find the value of a state (V), given the rewards that occur when following an action in a particular state (R).\n",
        "\n",
        "Gamma, the discount, is the key ingredient here. If my time steps were in days, and my gamma was .9, `$100` would be worth `$100` to me today, `$90` tomorrow, `$81` the day after, and so on. Putting this all together, we get the Bellman Equation\n",
        "\n",
        "<img src=\"https://github.com/Toefinder/MLDA/blob/main/ReinforcementLearning2021/images/bellman_equation.jpg?raw=1\" width=\"500\">\n",
        "\n",
        "source: [Wikipedia](https://en.wikipedia.org/wiki/Bellman_equation)\n",
        "\n",
        "**In other words, the value of our current state, `current_values`, is equal to the (immediate reward plus the)  discount times the value of the next state, `next_values`, given the policy the agent will follow.** For now, we'll have our agent assume a greedy policy: it will move towards the state with the highest calculated value. If you're wondering what P is, don't worry, we'll get to that later.\n",
        "\n",
        "Let's program it out and see it in action! We'll set up an array representing the lake with -1 as the holes, and 1 as the goal. Then, we'll set up an array of zeros to start our iteration."
      ]
    },
    {
      "cell_type": "code",
      "execution_count": null,
      "metadata": {
        "id": "pweZStbu3bp5"
      },
      "outputs": [],
      "source": [
        "LAKE = np.array([[0,  0,  0,  0],\n",
        "                 [0, -1,  0, -1],\n",
        "                 [0,  0,  0, -1],\n",
        "                 [-1, 0,  0,  1]])\n",
        "LAKE_WIDTH = len(LAKE[0])\n",
        "LAKE_HEIGHT = len(LAKE)\n",
        "\n",
        "DISCOUNT = .9  # Change me to be a value between 0 and 1.\n",
        "current_values = np.zeros_like(LAKE)"
      ]
    },
    {
      "cell_type": "code",
      "source": [
        "print(current_values)"
      ],
      "metadata": {
        "colab": {
          "base_uri": "https://localhost:8080/"
        },
        "id": "obSrSlOD_kMY",
        "outputId": "1e7db07a-6d12-4e73-d59a-637c96c0de02"
      },
      "execution_count": null,
      "outputs": [
        {
          "output_type": "stream",
          "name": "stdout",
          "text": [
            "[[0 0 0 0]\n",
            " [0 0 0 0]\n",
            " [0 0 0 0]\n",
            " [0 0 0 0]]\n"
          ]
        }
      ]
    },
    {
      "cell_type": "markdown",
      "metadata": {
        "id": "i_RixF5i3bp5"
      },
      "source": [
        "The Gym environment class has a handy property for finding the number of states in an environment called `observation_space`. In our case, there a 16 integer states, so it will label it as \"Discrete\". Similarly, `action_space` will tell us how many actions are available to the agent.\n",
        "\n",
        "Let's take advantage of these to make our code portable between different lakes sizes."
      ]
    },
    {
      "cell_type": "code",
      "execution_count": null,
      "metadata": {
        "id": "XJwy4XG03bp5",
        "colab": {
          "base_uri": "https://localhost:8080/"
        },
        "outputId": "826c88d8-f150-4332-bd65-69d42091abc7"
      },
      "outputs": [
        {
          "output_type": "stream",
          "name": "stdout",
          "text": [
            "env.observation_space - Discrete(16)\n",
            "env.observation_space.n - 16\n",
            "env.action_space - Discrete(4)\n",
            "env.action_space.n - 4\n"
          ]
        }
      ],
      "source": [
        "print(\"env.observation_space -\", env.observation_space)\n",
        "print(\"env.observation_space.n -\", env.observation_space.n)\n",
        "print(\"env.action_space -\", env.action_space)\n",
        "print(\"env.action_space.n -\", env.action_space.n)\n",
        "\n",
        "STATE_SPACE = env.observation_space.n\n",
        "ACTION_SPACE = env.action_space.n\n",
        "STATE_RANGE = range(STATE_SPACE)\n",
        "ACTION_RANGE = range(ACTION_SPACE)"
      ]
    },
    {
      "cell_type": "markdown",
      "metadata": {
        "id": "qeE6xv813bp6"
      },
      "source": [
        "We'll need some sort of function to figure out what the best neighboring cell is. The below function take's a cell of the lake, and looks at the current value mapping (to be called with `current_values`, and see's what the value of the adjacent state is corresponding to the given `action`."
      ]
    },
    {
      "cell_type": "code",
      "execution_count": null,
      "metadata": {
        "id": "gM3cnt3_3bp6"
      },
      "outputs": [],
      "source": [
        "def get_neighbor_value(state_x, state_y, values, action):\n",
        "    \"\"\"Returns the value of a state's neighbor.\n",
        "    \n",
        "    Args:\n",
        "        state_x (int): The state's horizontal position, 0 is the lake's left.\n",
        "        state_y (int): The state's vertical position, 0 is the lake's top.\n",
        "        values (float array): The current iteration's state values.\n",
        "        policy (int): Which action to check the value for.\n",
        "        \n",
        "    Returns:\n",
        "        The corresponding action's value.\n",
        "    \"\"\"\n",
        "    left = [state_y, state_x-1]\n",
        "    down = [state_y+1, state_x]\n",
        "    right = [state_y, state_x+1]\n",
        "    up = [state_y-1, state_x]\n",
        "    actions = [left, down, right, up]\n",
        "\n",
        "    direction = actions[action]\n",
        "    check_x = direction[1]\n",
        "    check_y = direction[0]\n",
        "        \n",
        "    is_boulder = check_y < 0 or check_y >= LAKE_HEIGHT \\\n",
        "        or check_x < 0 or check_x >= LAKE_WIDTH\n",
        "    \n",
        "    value = values[state_y, state_x]\n",
        "    if not is_boulder:\n",
        "        value = values[check_y, check_x]\n",
        "        \n",
        "    return value"
      ]
    },
    {
      "cell_type": "code",
      "source": [
        "neighbour = get_neighbor_value(1, 1, current_values, 1)\n",
        "print(neighbour)"
      ],
      "metadata": {
        "colab": {
          "base_uri": "https://localhost:8080/"
        },
        "id": "aNCyJRGO_YFS",
        "outputId": "a6503d6b-d8d9-4cca-87a1-0c5f41307d8f"
      },
      "execution_count": null,
      "outputs": [
        {
          "output_type": "stream",
          "name": "stdout",
          "text": [
            "0\n"
          ]
        }
      ]
    },
    {
      "cell_type": "markdown",
      "metadata": {
        "id": "cziyJUQr3bp7"
      },
      "source": [
        "But this doesn't find the best action, and the gumdrop is going to need that if it wants to greedily get off the lake. The `get_max_neighbor` function we've defined below takes a number corresponding to a cell as `state_number` and the same value mapping as `get_neighbor_value`."
      ]
    },
    {
      "cell_type": "code",
      "execution_count": null,
      "metadata": {
        "id": "ZT2ZsJIM3bp7"
      },
      "outputs": [],
      "source": [
        "def get_state_coordinates(state_number):\n",
        "    state_x = state_number % LAKE_WIDTH\n",
        "    state_y = state_number // LAKE_HEIGHT\n",
        "    return state_x, state_y\n",
        "\n",
        "def get_max_neighbor(state_number, values):\n",
        "    \"\"\"Finds the maximum valued neighbor for a given state.\n",
        "    \n",
        "    Args:\n",
        "        state_number (int): the state to find the max neighbor for\n",
        "        state_values (float array): the respective value of each state for\n",
        "            each cell of the lake.\n",
        "    \n",
        "    Returns:\n",
        "        max_value (float): the value of the maximum neighbor.\n",
        "        policy (int): the action to take to move towards the maximum neighbor.\n",
        "    \"\"\"\n",
        "    state_x, state_y = get_state_coordinates(state_number)\n",
        "    \n",
        "    # No policy or best value yet\n",
        "    best_policy = -1\n",
        "    max_value = -np.inf\n",
        "\n",
        "    # If the cell has something other than 0, it's a terminal state.\n",
        "    if LAKE[state_y, state_x]:\n",
        "        return LAKE[state_y, state_x], best_policy\n",
        "    \n",
        "    for action in ACTION_RANGE:\n",
        "        neighbor_value = get_neighbor_value(state_x, state_y, values, action)\n",
        "        if neighbor_value > max_value:\n",
        "            max_value = neighbor_value\n",
        "            best_policy = action\n",
        "        \n",
        "    return max_value, best_policy"
      ]
    },
    {
      "cell_type": "code",
      "source": [
        "coors = get_state_coordinates(15)\n",
        "print(coors)"
      ],
      "metadata": {
        "colab": {
          "base_uri": "https://localhost:8080/"
        },
        "id": "NkYfpixHARi3",
        "outputId": "9b22ac9f-2ff5-4082-e634-7f39fd81eca0"
      },
      "execution_count": null,
      "outputs": [
        {
          "output_type": "stream",
          "name": "stdout",
          "text": [
            "(3, 3)\n"
          ]
        }
      ]
    },
    {
      "cell_type": "code",
      "source": [
        "max_neighbor = get_max_neighbor(8, current_values)\n",
        "print(max_neighbor)"
      ],
      "metadata": {
        "colab": {
          "base_uri": "https://localhost:8080/"
        },
        "id": "Qb9aEDuoBAFn",
        "outputId": "641c4a9d-e99c-4fd2-a551-3d5aa4a3582d"
      },
      "execution_count": null,
      "outputs": [
        {
          "output_type": "stream",
          "name": "stdout",
          "text": [
            "(0, 0)\n"
          ]
        }
      ]
    },
    {
      "cell_type": "markdown",
      "metadata": {
        "id": "uRsli3gp3bp7"
      },
      "source": [
        "Now, let's write our value iteration code. We'll write a function that comes out one step of the iteration by checking each state and finding its maximum neighbor. The values will be reshaped so that it's in the form of the lake, but the policy will stay as a list of ints. This way, when Gym returns a state, all we need to do is look at the corresponding index in the policy list to tell our agent where to go."
      ]
    },
    {
      "cell_type": "code",
      "execution_count": null,
      "metadata": {
        "id": "mUWezdeI3bp8"
      },
      "outputs": [],
      "source": [
        "def iterate_value(current_values):\n",
        "    \"\"\"Finds the future state values for an array of current states.\n",
        "    \n",
        "    Args:\n",
        "        current_values (int array): the value of current states.\n",
        "\n",
        "    Returns:\n",
        "        next_values (int array): The value of states based on future states.\n",
        "        next_policies (int array): The recommended action to take in a state.\n",
        "    \"\"\"\n",
        "    next_values = []\n",
        "    next_policies = []\n",
        "\n",
        "    for state in STATE_RANGE:\n",
        "        value, policy = get_max_neighbor(state, current_values)\n",
        "        next_values.append(value)\n",
        "        next_policies.append(policy)\n",
        "    \n",
        "    next_values = np.array(next_values).reshape((LAKE_HEIGHT, LAKE_WIDTH))\n",
        "    return next_values, next_policies\n",
        "\n",
        "next_values, next_policies = iterate_value(current_values)"
      ]
    },
    {
      "cell_type": "markdown",
      "metadata": {
        "id": "4KqUqgLG3bp8"
      },
      "source": [
        "This is what our values look like after one step. Right now, it just looks like the lake. That's because we started with an array of zeros for `current_values`, and the terminal states of the lake were loaded in."
      ]
    },
    {
      "cell_type": "code",
      "execution_count": null,
      "metadata": {
        "id": "6kxy0joz3bp8",
        "colab": {
          "base_uri": "https://localhost:8080/"
        },
        "outputId": "50035af0-bcce-4e38-90d3-25fe96cf3ef0"
      },
      "outputs": [
        {
          "output_type": "execute_result",
          "data": {
            "text/plain": [
              "array([[ 0,  0,  0,  0],\n",
              "       [ 0, -1,  0, -1],\n",
              "       [ 0,  0,  0, -1],\n",
              "       [-1,  0,  0,  1]])"
            ]
          },
          "metadata": {},
          "execution_count": 24
        }
      ],
      "source": [
        "next_values"
      ]
    },
    {
      "cell_type": "markdown",
      "metadata": {
        "id": "Jr_bVnYH3bp8"
      },
      "source": [
        "And this is what our policy looks like reshaped into the form of the lake. The `-1`'s are terminal states. Right now, the agent will move left in any non-terminal state, because it sees all of those states as equal. Remember, if the gumdrop is along the leftmost side of the lake, and tries to move left, it will slip on a boulder and return to the same position."
      ]
    },
    {
      "cell_type": "code",
      "execution_count": null,
      "metadata": {
        "id": "GoAQ7bmd3bp9",
        "colab": {
          "base_uri": "https://localhost:8080/"
        },
        "outputId": "eeab0c45-fd57-4f25-f3f7-b6e4eeab7eee"
      },
      "outputs": [
        {
          "output_type": "execute_result",
          "data": {
            "text/plain": [
              "array([[ 0,  0,  0,  0],\n",
              "       [ 0, -1,  0, -1],\n",
              "       [ 0,  0,  0, -1],\n",
              "       [-1,  0,  0, -1]])"
            ]
          },
          "metadata": {},
          "execution_count": 25
        }
      ],
      "source": [
        "np.array(next_policies).reshape((LAKE_HEIGHT ,LAKE_WIDTH))"
      ]
    },
    {
      "cell_type": "markdown",
      "metadata": {
        "id": "oZKL0rE53bp9"
      },
      "source": [
        "There's one last step to apply the Bellman Equation, the `discount`! We'll multiply our next states by the `discount` and set that to our `current_values`. One loop done!"
      ]
    },
    {
      "cell_type": "code",
      "execution_count": null,
      "metadata": {
        "id": "TxzcLq7D3bp9",
        "colab": {
          "base_uri": "https://localhost:8080/"
        },
        "outputId": "b37ba3ed-03a6-4988-b09e-7779137818ad"
      },
      "outputs": [
        {
          "output_type": "execute_result",
          "data": {
            "text/plain": [
              "array([[ 0. ,  0. ,  0. ,  0. ],\n",
              "       [ 0. , -0.9,  0. , -0.9],\n",
              "       [ 0. ,  0. ,  0. , -0.9],\n",
              "       [-0.9,  0. ,  0. ,  0.9]])"
            ]
          },
          "metadata": {},
          "execution_count": 26
        }
      ],
      "source": [
        "current_values = DISCOUNT * next_values\n",
        "current_values"
      ]
    },
    {
      "cell_type": "markdown",
      "metadata": {
        "id": "eAMotmvT3bp9"
      },
      "source": [
        "Run the below cell over and over again to see how our values change with each iteration. It should be complete after six iterations when the values no longer change. The policy will also change as the values are updated."
      ]
    },
    {
      "cell_type": "code",
      "execution_count": null,
      "metadata": {
        "id": "vdeS_08h3bp-",
        "colab": {
          "base_uri": "https://localhost:8080/"
        },
        "outputId": "cd61ffaa-4fe4-44c4-f7d2-b81819b721e3"
      },
      "outputs": [
        {
          "output_type": "stream",
          "name": "stdout",
          "text": [
            "Value\n",
            "[[ 0.531441  0.59049   0.6561    0.59049 ]\n",
            " [ 0.59049  -1.        0.729    -1.      ]\n",
            " [ 0.6561    0.729     0.81     -1.      ]\n",
            " [-1.        0.81      0.9       1.      ]]\n",
            "Policy\n",
            "[[ 1  2  1  0]\n",
            " [ 1 -1  1 -1]\n",
            " [ 2  1  1 -1]\n",
            " [-1  2  2 -1]]\n"
          ]
        }
      ],
      "source": [
        "next_values, next_policies = iterate_value(current_values)\n",
        "print(\"Value\")\n",
        "print(next_values)\n",
        "print(\"Policy\")\n",
        "print(np.array(next_policies).reshape((4,4)))\n",
        "current_values = DISCOUNT * next_values"
      ]
    },
    {
      "cell_type": "markdown",
      "metadata": {
        "id": "qbM1e9s53bp-"
      },
      "source": [
        "Have a completed policy? Let's see it in action! We'll update our `play_game` function to instead take our list of policies. That way, we can start in a random position and still get to the end."
      ]
    },
    {
      "cell_type": "code",
      "execution_count": null,
      "metadata": {
        "id": "YEB7pHq13bp-",
        "colab": {
          "base_uri": "https://localhost:8080/"
        },
        "outputId": "32f30f7a-aa97-4651-af1e-cf46299dddd7"
      },
      "outputs": [
        {
          "output_type": "stream",
          "name": "stdout",
          "text": [
            "  (Down)\n",
            "SFFF\n",
            "\u001b[41mF\u001b[0mHFH\n",
            "FFFH\n",
            "HFFG\n",
            "4 - Still Alive!\n",
            "  (Down)\n",
            "SFFF\n",
            "FHFH\n",
            "\u001b[41mF\u001b[0mFFH\n",
            "HFFG\n",
            "8 - Still Alive!\n",
            "  (Right)\n",
            "SFFF\n",
            "FHFH\n",
            "F\u001b[41mF\u001b[0mFH\n",
            "HFFG\n",
            "9 - Still Alive!\n",
            "  (Down)\n",
            "SFFF\n",
            "FHFH\n",
            "FFFH\n",
            "H\u001b[41mF\u001b[0mFG\n",
            "13 - Still Alive!\n",
            "  (Right)\n",
            "SFFF\n",
            "FHFH\n",
            "FFFH\n",
            "HF\u001b[41mF\u001b[0mG\n",
            "14 - Still Alive!\n",
            "  (Right)\n",
            "SFFF\n",
            "FHFH\n",
            "FFFH\n",
            "HFF\u001b[41mG\u001b[0m\n",
            "15 - Cocoa Time!\n"
          ]
        }
      ],
      "source": [
        "def play_game(policy):\n",
        "    state = env.reset()\n",
        "    step = 0\n",
        "    done = False\n",
        "\n",
        "    while not done:\n",
        "        action = policy[state]  # This line is new.\n",
        "        state, _, done, _ = env.step(action)\n",
        "        env.render()\n",
        "        step += 1\n",
        "        print_state(state, done)\n",
        "\n",
        "play_game(next_policies)"
      ]
    },
    {
      "cell_type": "markdown",
      "metadata": {
        "id": "xHHhr0cY3bp_"
      },
      "source": [
        "Phew! Good job, team! The gumdrop made it out alive. So what became of our gumdrop hero? Well, the next day, it was making another snowman and fell onto an even more slippery and deadly lake. Doh! Turns out this story is part of a trilogy. Feel free to move onto the next section after your own sip of cocoa, coffee, tea, or poison of choice.\n",
        "\n",
        "## Policy Iteration\n",
        "\n",
        "You may have noticed that the first lake was built with the parameter `is_slippery=False`. This time, we're going to switch it to `True`."
      ]
    },
    {
      "cell_type": "code",
      "execution_count": null,
      "metadata": {
        "id": "dAUAckPU3bp_",
        "colab": {
          "base_uri": "https://localhost:8080/"
        },
        "outputId": "43811c01-1af0-4277-ae91-398d917753ee"
      },
      "outputs": [
        {
          "output_type": "stream",
          "name": "stdout",
          "text": [
            "\n",
            "\u001b[41mS\u001b[0mFFF\n",
            "FHFH\n",
            "FFFH\n",
            "HFFG\n"
          ]
        }
      ],
      "source": [
        "env = gym.make('FrozenLake-v0', is_slippery=True)\n",
        "state = env.reset()\n",
        "env.render()"
      ]
    },
    {
      "cell_type": "markdown",
      "metadata": {
        "id": "fxssdsmO3bp_"
      },
      "source": [
        "Hmm, looks the same as before. Let's try applying our old policy and see what happens."
      ]
    },
    {
      "cell_type": "code",
      "execution_count": null,
      "metadata": {
        "id": "iWuSrzM83bp_",
        "colab": {
          "base_uri": "https://localhost:8080/"
        },
        "outputId": "240e7af3-4bbb-4e13-cc96-3bfe6649d9fa"
      },
      "outputs": [
        {
          "output_type": "stream",
          "name": "stdout",
          "text": [
            "  (Down)\n",
            "\u001b[41mS\u001b[0mFFF\n",
            "FHFH\n",
            "FFFH\n",
            "HFFG\n",
            "0 - Still Alive!\n",
            "  (Down)\n",
            "S\u001b[41mF\u001b[0mFF\n",
            "FHFH\n",
            "FFFH\n",
            "HFFG\n",
            "1 - Still Alive!\n",
            "  (Right)\n",
            "SF\u001b[41mF\u001b[0mF\n",
            "FHFH\n",
            "FFFH\n",
            "HFFG\n",
            "2 - Still Alive!\n",
            "  (Down)\n",
            "SFF\u001b[41mF\u001b[0m\n",
            "FHFH\n",
            "FFFH\n",
            "HFFG\n",
            "3 - Still Alive!\n",
            "  (Left)\n",
            "SF\u001b[41mF\u001b[0mF\n",
            "FHFH\n",
            "FFFH\n",
            "HFFG\n",
            "2 - Still Alive!\n",
            "  (Down)\n",
            "SFF\u001b[41mF\u001b[0m\n",
            "FHFH\n",
            "FFFH\n",
            "HFFG\n",
            "3 - Still Alive!\n",
            "  (Left)\n",
            "SFF\u001b[41mF\u001b[0m\n",
            "FHFH\n",
            "FFFH\n",
            "HFFG\n",
            "3 - Still Alive!\n",
            "  (Left)\n",
            "SFFF\n",
            "FHF\u001b[41mH\u001b[0m\n",
            "FFFH\n",
            "HFFG\n",
            "7 - Game Over!\n"
          ]
        }
      ],
      "source": [
        "play_game(next_policies)"
      ]
    },
    {
      "cell_type": "markdown",
      "metadata": {
        "id": "uhg09E703bqA"
      },
      "source": [
        "Was there a game over? There's a small chance that the gumdrop made it to the end, but it's much more likely that it accidentally slipped and fell into a hole. Oh no! We can try repeatedly testing the above code cell over and over again, but it might take a while. In fact, this is a similar roadblock Bellman and his colleagues faced.\n",
        "\n",
        "How efficient is Value Iteration? On our modern machines, this algorithm ran fairly quickly, but back in 1960, that wasn't the case. Let's say our lake is a long straight line like this:\n",
        "\n",
        "| | | | | | | |\n",
        "|-|-|-|-|-|-|-|\n",
        "|S|F|F|F|F|F|H|\n",
        "\n",
        "This is the worst case scenario for value iteration. In each iteration, we look at every state (s) and each action per state (a), so one step of value iteration is O(s*a). In the case of our lake line, each iteration only updates one cell. In other words, the value iteration step needs to be run `s` times. In total, that's O(s<sup>2</sup>a).\n",
        "\n",
        "Back in 1960, that was computationally heavy, and so [Ronald Howard](https://en.wikipedia.org/wiki/Ronald_A._Howard) developed an alteration of Value Iteration that mildly sacrificed mathematical accuracy for speed.\n",
        "\n",
        "**Here's the strategy: it was observed that the optimal policy often converged before value iteration was complete. To take advantage of this, we'll start with random policy. When we iterate over our values, we'll use this policy instead of trying to find the maximum neighbor.** This has been coded out in `find_future_values` below."
      ]
    },
    {
      "cell_type": "code",
      "execution_count": null,
      "metadata": {
        "id": "8CwYyFf-3bqA"
      },
      "outputs": [],
      "source": [
        "def find_future_values(current_values, current_policies):\n",
        "    \"\"\"Finds the next set of future values based on the current policy.\"\"\"\n",
        "    next_values = []\n",
        "\n",
        "    for state in STATE_RANGE:\n",
        "        current_policy = current_policies[state]\n",
        "        state_x, state_y = get_state_coordinates(state)\n",
        "\n",
        "        # If the cell has something other than 0, it's a terminal state.\n",
        "        value = LAKE[state_y, state_x]\n",
        "        if not value:\n",
        "            value = get_neighbor_value(\n",
        "                state_x, state_y, current_values, current_policy)\n",
        "        next_values.append(value)\n",
        "\n",
        "    return np.array(next_values).reshape((LAKE_HEIGHT, LAKE_WIDTH))"
      ]
    },
    {
      "cell_type": "code",
      "source": [
        "current_values1 = LAKE\n",
        "print(current_values1)"
      ],
      "metadata": {
        "colab": {
          "base_uri": "https://localhost:8080/"
        },
        "id": "LLCB6AzwGOsN",
        "outputId": "74be0efa-9a31-491b-d8a6-63bd5b5b56fe"
      },
      "execution_count": null,
      "outputs": [
        {
          "output_type": "stream",
          "name": "stdout",
          "text": [
            "[[ 0  0  0  0]\n",
            " [ 0 -1  0 -1]\n",
            " [ 0  0  0 -1]\n",
            " [-1  0  0  1]]\n"
          ]
        }
      ]
    },
    {
      "cell_type": "code",
      "source": [
        "current_policies1 = [ 0,  0,  0,  0, 0, -1,  0, -1,  0,  1,  1, -1, -1,  2,  2, -1]\n",
        "np.array(current_policies1).reshape(4,4)"
      ],
      "metadata": {
        "colab": {
          "base_uri": "https://localhost:8080/"
        },
        "id": "JNTGS-7QHgET",
        "outputId": "c04fe4dc-2ec6-4c0a-9e47-4b680eb4cc98"
      },
      "execution_count": null,
      "outputs": [
        {
          "output_type": "execute_result",
          "data": {
            "text/plain": [
              "array([[ 0,  0,  0,  0],\n",
              "       [ 0, -1,  0, -1],\n",
              "       [ 0,  1,  1, -1],\n",
              "       [-1,  2,  2, -1]])"
            ]
          },
          "metadata": {},
          "execution_count": 40
        }
      ]
    },
    {
      "cell_type": "code",
      "source": [
        "next_values1 = find_future_values(current_values1, current_policies1)\n",
        "print(next_values1)\n",
        "current_values1 = next_values1"
      ],
      "metadata": {
        "colab": {
          "base_uri": "https://localhost:8080/"
        },
        "id": "krySZzXkH01J",
        "outputId": "00912012-6f53-4578-ffdc-d07e745a3157"
      },
      "execution_count": null,
      "outputs": [
        {
          "output_type": "stream",
          "name": "stdout",
          "text": [
            "[[ 0  0  0  0]\n",
            " [ 0 -1 -1 -1]\n",
            " [ 0  0  0 -1]\n",
            " [-1  0  1  1]]\n"
          ]
        }
      ]
    },
    {
      "cell_type": "markdown",
      "metadata": {
        "id": "vcmzC_eB3bqA"
      },
      "source": [
        "After we've calculated our new values, then we'll update the policy (and not the values) based on the maximum neighbor. If there's no change in the policy, then we're done. The below is very similar to our `get_max_neighbor` function. Can you see the differences?"
      ]
    },
    {
      "cell_type": "code",
      "execution_count": null,
      "metadata": {
        "id": "al1tYpfH3bqA"
      },
      "outputs": [],
      "source": [
        "def find_best_policy(next_values):\n",
        "    \"\"\"Finds the best policy given a value mapping.\"\"\"\n",
        "    next_policies = []\n",
        "    for state in STATE_RANGE:\n",
        "        state_x, state_y = get_state_coordinates(state)\n",
        "\n",
        "        # No policy or best value yet\n",
        "        max_value = -np.inf\n",
        "        best_policy = -1\n",
        "\n",
        "        if not LAKE[state_y, state_x]:\n",
        "            for policy in ACTION_RANGE:\n",
        "                neighbor_value = get_neighbor_value(\n",
        "                    state_x, state_y, next_values, policy)\n",
        "                if neighbor_value > max_value:\n",
        "                    max_value = neighbor_value\n",
        "                    best_policy = policy\n",
        "                \n",
        "        next_policies.append(best_policy)\n",
        "    return next_policies"
      ]
    },
    {
      "cell_type": "markdown",
      "metadata": {
        "id": "LBLu7qwo3bqB"
      },
      "source": [
        "To complete the Policy Iteration algorithm, we'll combine the two functions above. Conceptually, we'll be alternating between updating our value function and updating our policy function."
      ]
    },
    {
      "cell_type": "code",
      "execution_count": null,
      "metadata": {
        "id": "UshfnxI83bqB"
      },
      "outputs": [],
      "source": [
        "def iterate_policy(current_values, current_policies):\n",
        "    \"\"\"Finds the future state values for an array of current states.\n",
        "    \n",
        "    Args:\n",
        "        current_values (int array): the value of current states.\n",
        "        current_policies (int array): a list where each cell is the recommended\n",
        "            action for the state matching its index.\n",
        "\n",
        "    Returns:\n",
        "        next_values (int array): The value of states based on future states.\n",
        "        next_policies (int array): The recommended action to take in a state.\n",
        "    \"\"\"\n",
        "    next_values = find_future_values(current_values, current_policies)\n",
        "    next_policies = find_best_policy(next_values)\n",
        "    return next_values, next_policies"
      ]
    },
    {
      "cell_type": "markdown",
      "metadata": {
        "id": "QtINGPHr3bqB"
      },
      "source": [
        "Next, let's modify the `get_neighbor_value` function to now include the slippery ice. Remember the `P` in the Bellman Equation above? It stands for the probability of ending up in a new state given the current state and action taken. That is, we'll take a weighted sum of the values of all possible states based on our chances to be in those states.\n",
        "\n",
        "How does the physics of the slippery ice work? For this lake, whenever the gumdrop tries to move in a particular direction, there are three possible positions that it could end up with. It could move where it was intending to go, but it could also end up to the left or right of the direction it was facing. For instance, if it wanted to move right, it could end up on the square above or below it! This is depicted below, with the yellow squares being potential positions after attempting to move right.\n",
        "\n",
        "<img src=\"https://github.com/Toefinder/MLDA/blob/main/ReinforcementLearning2021/images/slipping.jpg?raw=1\" width=\"360\" height=\"270\">\n",
        "\n",
        "Each of these has an equal probability chance of happening. So since there are three outcomes, they each have about a 33% chance to happen. What happens if we slip in the direction of a boulder? No problem, we'll just end up not moving anywhere. Let's make a function to find what our possible locations could be given a policy and state coordinates."
      ]
    },
    {
      "cell_type": "code",
      "execution_count": null,
      "metadata": {
        "id": "E2ya42163bqB"
      },
      "outputs": [],
      "source": [
        "def get_locations(state_x, state_y, policy):\n",
        "    left = [state_y, state_x-1]\n",
        "    down = [state_y+1, state_x]\n",
        "    right = [state_y, state_x+1]\n",
        "    up = [state_y-1, state_x]\n",
        "    directions = [left, down, right, up]\n",
        "    num_actions = len(directions)\n",
        "\n",
        "    gumdrop_right = (policy - 1) % num_actions\n",
        "    gumdrop_left = (policy + 1) % num_actions\n",
        "    locations = [gumdrop_left, policy, gumdrop_right]\n",
        "    return [directions[location] for location in locations]"
      ]
    },
    {
      "cell_type": "markdown",
      "metadata": {
        "id": "xfUXxyO73bqC"
      },
      "source": [
        "Then, we can add it to `get_neighbor_value` to find the weighted value of all the possible states the gumdrop can end up in."
      ]
    },
    {
      "cell_type": "code",
      "execution_count": null,
      "metadata": {
        "id": "73FrgyT-3bqC"
      },
      "outputs": [],
      "source": [
        "def get_neighbor_value(state_x, state_y, values, policy):\n",
        "    \"\"\"Returns the value of a state's neighbor.\n",
        "    \n",
        "    Args:\n",
        "        state_x (int): The state's horizontal position, 0 is the lake's left.\n",
        "        state_y (int): The state's vertical position, 0 is the lake's top.\n",
        "        values (float array): The current iteration's state values.\n",
        "        policy (int): Which action to check the value for.\n",
        "        \n",
        "    Returns:\n",
        "        The corresponding action's value.\n",
        "    \"\"\"\n",
        "    locations = get_locations(state_x, state_y, policy)\n",
        "    location_chance = 1.0 / len(locations)\n",
        "    total_value = 0\n",
        "\n",
        "    for location in locations:\n",
        "        check_x = location[1]\n",
        "        check_y = location[0]\n",
        "\n",
        "        is_boulder = check_y < 0 or check_y >= LAKE_HEIGHT \\\n",
        "            or check_x < 0 or check_x >= LAKE_WIDTH\n",
        "    \n",
        "        value = values[state_y, state_x]\n",
        "        if not is_boulder:\n",
        "            value = values[check_y, check_x]\n",
        "        total_value += location_chance * value\n",
        "\n",
        "    return total_value"
      ]
    },
    {
      "cell_type": "markdown",
      "metadata": {
        "id": "O8m9tNCh3bqC"
      },
      "source": [
        "For Policy Iteration, we'll start off with a random policy if only because the Gumdrop doesn't know any better yet. We'll reset our current values while we're at it."
      ]
    },
    {
      "cell_type": "code",
      "execution_count": null,
      "metadata": {
        "id": "_L6nDOB63bqC",
        "colab": {
          "base_uri": "https://localhost:8080/"
        },
        "outputId": "7c8402f8-17df-4582-b7ac-e2c78d237b7c"
      },
      "outputs": [
        {
          "output_type": "execute_result",
          "data": {
            "text/plain": [
              "array([[2, 3, 0, 1],\n",
              "       [1, 0, 2, 1],\n",
              "       [0, 0, 3, 2],\n",
              "       [0, 3, 1, 0]])"
            ]
          },
          "metadata": {},
          "execution_count": 46
        }
      ],
      "source": [
        "current_values = np.zeros_like(LAKE)\n",
        "policies = np.random.choice(ACTION_RANGE, size=STATE_SPACE)\n",
        "np.array(policies).reshape((4,4))"
      ]
    },
    {
      "cell_type": "markdown",
      "metadata": {
        "id": "e_la7-nY3bqD"
      },
      "source": [
        "As before with Value Iteration, run the cell below multiple until the policy no longer changes. It should only take 2-3 clicks compared to Value Iteration's 6."
      ]
    },
    {
      "cell_type": "code",
      "execution_count": null,
      "metadata": {
        "id": "WPqQmcF23bqD",
        "colab": {
          "base_uri": "https://localhost:8080/"
        },
        "outputId": "134e0516-74c9-4735-f29a-5c1f4a549c41"
      },
      "outputs": [
        {
          "output_type": "stream",
          "name": "stdout",
          "text": [
            "Value\n",
            "[[ 0.     0.     0.     0.   ]\n",
            " [ 0.    -1.    -0.3   -1.   ]\n",
            " [ 0.     0.027  0.027 -1.   ]\n",
            " [-1.     0.144  0.444  1.   ]]\n",
            "Policy\n",
            "[[ 0  3  3  3]\n",
            " [ 0 -1  0 -1]\n",
            " [ 3  1  0 -1]\n",
            " [-1  2  1 -1]]\n"
          ]
        }
      ],
      "source": [
        "next_values, policies = iterate_policy(current_values, policies)\n",
        "print(\"Value\")\n",
        "print(next_values)\n",
        "print(\"Policy\")\n",
        "print(np.array(policies).reshape((4,4)))\n",
        "current_values = DISCOUNT * next_values"
      ]
    },
    {
      "cell_type": "markdown",
      "metadata": {
        "id": "JN5ScOBS3bqD"
      },
      "source": [
        "Hmm, does this work? Let's see! Run the cell below to watch the gumdrop slip its way to victory."
      ]
    },
    {
      "cell_type": "code",
      "execution_count": null,
      "metadata": {
        "id": "LRShQ_Lw3bqD",
        "colab": {
          "base_uri": "https://localhost:8080/"
        },
        "outputId": "0a7a6bd5-5f00-42cf-93d8-23c79e1e028f"
      },
      "outputs": [
        {
          "output_type": "stream",
          "name": "stdout",
          "text": [
            "  (Left)\n",
            "\u001b[41mS\u001b[0mFFF\n",
            "FHFH\n",
            "FFFH\n",
            "HFFG\n",
            "0 - Still Alive!\n",
            "  (Left)\n",
            "\u001b[41mS\u001b[0mFFF\n",
            "FHFH\n",
            "FFFH\n",
            "HFFG\n",
            "0 - Still Alive!\n",
            "  (Left)\n",
            "\u001b[41mS\u001b[0mFFF\n",
            "FHFH\n",
            "FFFH\n",
            "HFFG\n",
            "0 - Still Alive!\n",
            "  (Left)\n",
            "\u001b[41mS\u001b[0mFFF\n",
            "FHFH\n",
            "FFFH\n",
            "HFFG\n",
            "0 - Still Alive!\n",
            "  (Left)\n",
            "SFFF\n",
            "\u001b[41mF\u001b[0mHFH\n",
            "FFFH\n",
            "HFFG\n",
            "4 - Still Alive!\n",
            "  (Left)\n",
            "SFFF\n",
            "\u001b[41mF\u001b[0mHFH\n",
            "FFFH\n",
            "HFFG\n",
            "4 - Still Alive!\n",
            "  (Left)\n",
            "SFFF\n",
            "FHFH\n",
            "\u001b[41mF\u001b[0mFFH\n",
            "HFFG\n",
            "8 - Still Alive!\n",
            "  (Up)\n",
            "SFFF\n",
            "\u001b[41mF\u001b[0mHFH\n",
            "FFFH\n",
            "HFFG\n",
            "4 - Still Alive!\n",
            "  (Left)\n",
            "SFFF\n",
            "FHFH\n",
            "\u001b[41mF\u001b[0mFFH\n",
            "HFFG\n",
            "8 - Still Alive!\n",
            "  (Up)\n",
            "SFFF\n",
            "\u001b[41mF\u001b[0mHFH\n",
            "FFFH\n",
            "HFFG\n",
            "4 - Still Alive!\n",
            "  (Left)\n",
            "SFFF\n",
            "\u001b[41mF\u001b[0mHFH\n",
            "FFFH\n",
            "HFFG\n",
            "4 - Still Alive!\n",
            "  (Left)\n",
            "SFFF\n",
            "\u001b[41mF\u001b[0mHFH\n",
            "FFFH\n",
            "HFFG\n",
            "4 - Still Alive!\n",
            "  (Left)\n",
            "SFFF\n",
            "FHFH\n",
            "\u001b[41mF\u001b[0mFFH\n",
            "HFFG\n",
            "8 - Still Alive!\n",
            "  (Up)\n",
            "SFFF\n",
            "FHFH\n",
            "\u001b[41mF\u001b[0mFFH\n",
            "HFFG\n",
            "8 - Still Alive!\n",
            "  (Up)\n",
            "SFFF\n",
            "\u001b[41mF\u001b[0mHFH\n",
            "FFFH\n",
            "HFFG\n",
            "4 - Still Alive!\n",
            "  (Left)\n",
            "\u001b[41mS\u001b[0mFFF\n",
            "FHFH\n",
            "FFFH\n",
            "HFFG\n",
            "0 - Still Alive!\n",
            "  (Left)\n",
            "\u001b[41mS\u001b[0mFFF\n",
            "FHFH\n",
            "FFFH\n",
            "HFFG\n",
            "0 - Still Alive!\n",
            "  (Left)\n",
            "\u001b[41mS\u001b[0mFFF\n",
            "FHFH\n",
            "FFFH\n",
            "HFFG\n",
            "0 - Still Alive!\n",
            "  (Left)\n",
            "SFFF\n",
            "\u001b[41mF\u001b[0mHFH\n",
            "FFFH\n",
            "HFFG\n",
            "4 - Still Alive!\n",
            "  (Left)\n",
            "SFFF\n",
            "\u001b[41mF\u001b[0mHFH\n",
            "FFFH\n",
            "HFFG\n",
            "4 - Still Alive!\n",
            "  (Left)\n",
            "\u001b[41mS\u001b[0mFFF\n",
            "FHFH\n",
            "FFFH\n",
            "HFFG\n",
            "0 - Still Alive!\n",
            "  (Left)\n",
            "\u001b[41mS\u001b[0mFFF\n",
            "FHFH\n",
            "FFFH\n",
            "HFFG\n",
            "0 - Still Alive!\n",
            "  (Left)\n",
            "\u001b[41mS\u001b[0mFFF\n",
            "FHFH\n",
            "FFFH\n",
            "HFFG\n",
            "0 - Still Alive!\n",
            "  (Left)\n",
            "\u001b[41mS\u001b[0mFFF\n",
            "FHFH\n",
            "FFFH\n",
            "HFFG\n",
            "0 - Still Alive!\n",
            "  (Left)\n",
            "\u001b[41mS\u001b[0mFFF\n",
            "FHFH\n",
            "FFFH\n",
            "HFFG\n",
            "0 - Still Alive!\n",
            "  (Left)\n",
            "\u001b[41mS\u001b[0mFFF\n",
            "FHFH\n",
            "FFFH\n",
            "HFFG\n",
            "0 - Still Alive!\n",
            "  (Left)\n",
            "\u001b[41mS\u001b[0mFFF\n",
            "FHFH\n",
            "FFFH\n",
            "HFFG\n",
            "0 - Still Alive!\n",
            "  (Left)\n",
            "SFFF\n",
            "\u001b[41mF\u001b[0mHFH\n",
            "FFFH\n",
            "HFFG\n",
            "4 - Still Alive!\n",
            "  (Left)\n",
            "\u001b[41mS\u001b[0mFFF\n",
            "FHFH\n",
            "FFFH\n",
            "HFFG\n",
            "0 - Still Alive!\n",
            "  (Left)\n",
            "\u001b[41mS\u001b[0mFFF\n",
            "FHFH\n",
            "FFFH\n",
            "HFFG\n",
            "0 - Still Alive!\n",
            "  (Left)\n",
            "SFFF\n",
            "\u001b[41mF\u001b[0mHFH\n",
            "FFFH\n",
            "HFFG\n",
            "4 - Still Alive!\n",
            "  (Left)\n",
            "SFFF\n",
            "\u001b[41mF\u001b[0mHFH\n",
            "FFFH\n",
            "HFFG\n",
            "4 - Still Alive!\n",
            "  (Left)\n",
            "SFFF\n",
            "FHFH\n",
            "\u001b[41mF\u001b[0mFFH\n",
            "HFFG\n",
            "8 - Still Alive!\n",
            "  (Up)\n",
            "SFFF\n",
            "\u001b[41mF\u001b[0mHFH\n",
            "FFFH\n",
            "HFFG\n",
            "4 - Still Alive!\n",
            "  (Left)\n",
            "\u001b[41mS\u001b[0mFFF\n",
            "FHFH\n",
            "FFFH\n",
            "HFFG\n",
            "0 - Still Alive!\n",
            "  (Left)\n",
            "SFFF\n",
            "\u001b[41mF\u001b[0mHFH\n",
            "FFFH\n",
            "HFFG\n",
            "4 - Still Alive!\n",
            "  (Left)\n",
            "SFFF\n",
            "FHFH\n",
            "\u001b[41mF\u001b[0mFFH\n",
            "HFFG\n",
            "8 - Still Alive!\n",
            "  (Up)\n",
            "SFFF\n",
            "\u001b[41mF\u001b[0mHFH\n",
            "FFFH\n",
            "HFFG\n",
            "4 - Still Alive!\n",
            "  (Left)\n",
            "SFFF\n",
            "FHFH\n",
            "\u001b[41mF\u001b[0mFFH\n",
            "HFFG\n",
            "8 - Still Alive!\n",
            "  (Up)\n",
            "SFFF\n",
            "FHFH\n",
            "\u001b[41mF\u001b[0mFFH\n",
            "HFFG\n",
            "8 - Still Alive!\n",
            "  (Up)\n",
            "SFFF\n",
            "FHFH\n",
            "\u001b[41mF\u001b[0mFFH\n",
            "HFFG\n",
            "8 - Still Alive!\n",
            "  (Up)\n",
            "SFFF\n",
            "FHFH\n",
            "\u001b[41mF\u001b[0mFFH\n",
            "HFFG\n",
            "8 - Still Alive!\n",
            "  (Up)\n",
            "SFFF\n",
            "FHFH\n",
            "\u001b[41mF\u001b[0mFFH\n",
            "HFFG\n",
            "8 - Still Alive!\n",
            "  (Up)\n",
            "SFFF\n",
            "\u001b[41mF\u001b[0mHFH\n",
            "FFFH\n",
            "HFFG\n",
            "4 - Still Alive!\n",
            "  (Left)\n",
            "SFFF\n",
            "FHFH\n",
            "\u001b[41mF\u001b[0mFFH\n",
            "HFFG\n",
            "8 - Still Alive!\n",
            "  (Up)\n",
            "SFFF\n",
            "\u001b[41mF\u001b[0mHFH\n",
            "FFFH\n",
            "HFFG\n",
            "4 - Still Alive!\n",
            "  (Left)\n",
            "\u001b[41mS\u001b[0mFFF\n",
            "FHFH\n",
            "FFFH\n",
            "HFFG\n",
            "0 - Still Alive!\n",
            "  (Left)\n",
            "SFFF\n",
            "\u001b[41mF\u001b[0mHFH\n",
            "FFFH\n",
            "HFFG\n",
            "4 - Still Alive!\n",
            "  (Left)\n",
            "SFFF\n",
            "FHFH\n",
            "\u001b[41mF\u001b[0mFFH\n",
            "HFFG\n",
            "8 - Still Alive!\n",
            "  (Up)\n",
            "SFFF\n",
            "FHFH\n",
            "F\u001b[41mF\u001b[0mFH\n",
            "HFFG\n",
            "9 - Still Alive!\n",
            "  (Down)\n",
            "SFFF\n",
            "FHFH\n",
            "\u001b[41mF\u001b[0mFFH\n",
            "HFFG\n",
            "8 - Still Alive!\n",
            "  (Up)\n",
            "SFFF\n",
            "FHFH\n",
            "\u001b[41mF\u001b[0mFFH\n",
            "HFFG\n",
            "8 - Still Alive!\n",
            "  (Up)\n",
            "SFFF\n",
            "FHFH\n",
            "F\u001b[41mF\u001b[0mFH\n",
            "HFFG\n",
            "9 - Still Alive!\n",
            "  (Down)\n",
            "SFFF\n",
            "FHFH\n",
            "FFFH\n",
            "H\u001b[41mF\u001b[0mFG\n",
            "13 - Still Alive!\n",
            "  (Right)\n",
            "SFFF\n",
            "FHFH\n",
            "FFFH\n",
            "HF\u001b[41mF\u001b[0mG\n",
            "14 - Still Alive!\n",
            "  (Down)\n",
            "SFFF\n",
            "FHFH\n",
            "FFFH\n",
            "HFF\u001b[41mG\u001b[0m\n",
            "15 - Cocoa Time!\n"
          ]
        }
      ],
      "source": [
        "play_game(policies)"
      ]
    },
    {
      "cell_type": "markdown",
      "metadata": {
        "id": "oWQzJQ1f3bqE"
      },
      "source": [
        "So what was the learned strategy here? The gumdrop learned to hug the left wall of boulders until it was down far enough to make a break for the exit. Instead of heading directly for it though, it took advantage of actions that did not have a hole of death in them. Patience is a virtue!\n",
        "\n",
        "We promised this story was a trilogy, and yes, the next day, the gumdrop fell upon a frozen lake yet again.\n",
        "\n",
        "## Q Learning\n",
        "Value Iteration and Policy Iteration are great techniques, but what if we don't know how big the lake is? With real world problems, not knowing how many potential states are can be a definite possibility.\n",
        "\n",
        "Enter [Chris Watkins](http://www.cs.rhul.ac.uk/~chrisw/). Inspired by how animals learn with delayed rewards, he came up with the idea of [Q Learning](http://www.cs.rhul.ac.uk/~chrisw/new_thesis.pdf) as an evolution of [Richard Sutton's](https://en.wikipedia.org/wiki/Richard_S._Sutton) [Temporal Difference Learning](https://en.wikipedia.org/wiki/Temporal_difference_learning). Watkins noticed that animals learn from positive and negative rewards, and that they often make mistakes in order to optimize a skill.\n",
        "\n",
        "From this emerged the idea of a Q table. In the lake case, it would look something like this.\n",
        "\n",
        "| |Left|Down|Right|Up|\n",
        "|-|-|-|-|-|\n",
        "|0| | | | |\n",
        "|1| | | | |\n",
        "|...| | | | |\n",
        "\n",
        "Here's the strategy: our agent will explore the environment. As the agent observes new states, we'll add more rows to our table. Whenever it moves from one state to the next, we'll update the cell corresponding to the old state based on the Bellman Equation. The agent doesn't need to know what the probabilities are between transitions. It'll learn the value of these as it experiments.\n",
        "\n",
        "For Q learning, this works by looking at the row that corresponds to the agent's current state. Then, we'll select the action with the highest value. There are multiple ways to initialize the Q-table, but for us, we'll start with all zeros. In that case, when selecting the best action, we'll randomly select between tied max values. If we don't, the agent will favor certain actions which will limit its exploration.\n",
        "\n",
        "To be able to handle an unknown number of states, we'll initialize our q_table as one row to represent our initial state. Then, we'll make a dictionary to map new states to rows in the table."
      ]
    },
    {
      "cell_type": "code",
      "execution_count": null,
      "metadata": {
        "id": "uMxqgaWC3bqE",
        "colab": {
          "base_uri": "https://localhost:8080/"
        },
        "outputId": "15725e1a-4757-43d2-8f93-05d7ac470726"
      },
      "outputs": [
        {
          "output_type": "stream",
          "name": "stdout",
          "text": [
            "mapping\n",
            "{0: 0}\n",
            "q_table\n",
            "[[0. 0. 0. 0.]]\n"
          ]
        }
      ],
      "source": [
        "new_row = np.zeros((1, env.action_space.n))\n",
        "q_table = np.copy(new_row)\n",
        "q_map = {0: 0}\n",
        "\n",
        "def print_q(q_table, q_map):\n",
        "    print(\"mapping\")\n",
        "    print(q_map)\n",
        "    print(\"q_table\")\n",
        "    print(q_table)\n",
        "\n",
        "print_q(q_table, q_map)"
      ]
    },
    {
      "cell_type": "markdown",
      "metadata": {
        "id": "avqBKPlM3bqE"
      },
      "source": [
        "Our new `get_action` function will help us read the `q_table` and find the best action.\n",
        "\n",
        "First, we'll give the agent the ability to act randomly as opposed to choosing the best known action. This gives it the ability to explore and find new situations. This is done with a random chance to act randomly. So random!\n",
        "\n",
        "When the Gumdrop chooses not to act randomly, it will instead act based on the best action recorded in the `q_table`. Numpy's [argwhere](https://docs.scipy.org/doc/numpy/reference/generated/numpy.argwhere.html) is used to find the indexes with the maximum value in the q-table row corresponding to our current state. Since numpy is often used with higher dimensional data, each index is returned as a list of ints. Our indexes are really one dimensional since we're just looking within a single row, so we'll use [np.squeeze](https://docs.scipy.org/doc/numpy/reference/generated/numpy.squeeze.html) to remove the extra brackets. To randomly select from the indexes, we'll use [np.random.choice](https://docs.scipy.org/doc/numpy-1.14.1/reference/generated/numpy.random.choice.html)."
      ]
    },
    {
      "cell_type": "code",
      "execution_count": null,
      "metadata": {
        "id": "CvyFgpmO3bqF"
      },
      "outputs": [],
      "source": [
        "def get_action(q_map, q_table, state_row, random_rate):\n",
        "    \"\"\"Find max-valued actions and randomly select from them.\"\"\"\n",
        "    if random.random() < random_rate:\n",
        "        return random.randint(0, ACTION_SPACE-1)\n",
        "\n",
        "    action_values = q_table[state_row]\n",
        "    max_indexes = np.argwhere(action_values == action_values.max())\n",
        "    max_indexes = np.squeeze(max_indexes, axis=-1)\n",
        "    action = np.random.choice(max_indexes)\n",
        "    return action"
      ]
    },
    {
      "cell_type": "markdown",
      "metadata": {
        "id": "zT4bGmc63bqF"
      },
      "source": [
        "Here, we'll define how the `q_table` gets updated. We'll apply the Bellman Equation as before, but since there is so much luck involved between slipping and random actions, we'll update our `q_table` as a weighted average between the `old_value` we're updating and the `future_value` based on the best action in the next state. That way, there's a little bit of memory between old and new experiences."
      ]
    },
    {
      "cell_type": "code",
      "execution_count": null,
      "metadata": {
        "id": "Zn9Yf9iG3bqF"
      },
      "outputs": [],
      "source": [
        "def update_q(q_table, new_state_row, reward, old_value):\n",
        "    \"\"\"Returns an updated Q-value based on the Bellman Equation.\"\"\"\n",
        "    learning_rate = .1  # Change to be between 0 and 1.\n",
        "    future_value = reward + DISCOUNT * np.max(q_table[new_state_row])\n",
        "    return old_value + learning_rate * (future_value - old_value)"
      ]
    },
    {
      "cell_type": "markdown",
      "metadata": {
        "id": "Qzr7T9tN3bqF"
      },
      "source": [
        "We'll update our `play_game` function to take our table and mapping, and at the end, we'll return any updates to them. Once we observe new states, we'll check our mapping and add then to the table if space isn't allocated for them already.\n",
        "\n",
        "Finally, for every `state` - `action` - `new-state` transition, we'll update the cell in `q_table` that corresponds to the `state` and `action` with the Bellman Equation.\n",
        "\n",
        "There's a little secret to solving this lake problem, and that's to have a small negative reward when moving between states. Otherwise, the gumdrop will become too afraid of slipping in a death hole to explore out of what is thought to be safe positions."
      ]
    },
    {
      "cell_type": "code",
      "execution_count": null,
      "metadata": {
        "id": "EGP9a4a03bqF"
      },
      "outputs": [],
      "source": [
        "def play_game(q_table, q_map, random_rate, render=False):\n",
        "    state = env.reset()\n",
        "    step = 0\n",
        "    done = False\n",
        "\n",
        "    while not done:\n",
        "        state_row = q_map[state]\n",
        "        action = get_action(q_map, q_table, state_row, random_rate)\n",
        "        new_state, _, done, _ = env.step(action)\n",
        "\n",
        "        #Add new state to table and mapping if it isn't there already.\n",
        "        if new_state not in q_map:\n",
        "            q_map[new_state] = len(q_table)\n",
        "            q_table = np.append(q_table, new_row, axis=0)\n",
        "        new_state_row = q_map[new_state]\n",
        "\n",
        "        reward = -.01  #Encourage exploration.\n",
        "        if done:\n",
        "            reward = 1 if new_state == 15 else -1\n",
        "        current_q = q_table[state_row, action]\n",
        "        q_table[state_row, action] = update_q(\n",
        "            q_table, new_state_row, reward, current_q)\n",
        "\n",
        "        step += 1\n",
        "        if render:\n",
        "            env.render()\n",
        "            print_state(new_state, done)\n",
        "        state = new_state\n",
        "        \n",
        "    return q_table, q_map"
      ]
    },
    {
      "cell_type": "markdown",
      "metadata": {
        "id": "mkFf8Iao3bqG"
      },
      "source": [
        "Ok, time to shine, gumdrop emoji! Let's do one simulation and see what happens."
      ]
    },
    {
      "cell_type": "code",
      "execution_count": null,
      "metadata": {
        "id": "9k4gY4de3bqG"
      },
      "outputs": [],
      "source": [
        "# Run to refresh the q_table.\n",
        "random_rate = 1\n",
        "q_table = np.copy(new_row)\n",
        "q_map = {0: 0}"
      ]
    },
    {
      "cell_type": "code",
      "execution_count": null,
      "metadata": {
        "id": "Z2qgwZQv3bqG",
        "colab": {
          "base_uri": "https://localhost:8080/"
        },
        "outputId": "62b02c81-b4f4-4bad-9d9f-3d35306c25b3"
      },
      "outputs": [
        {
          "output_type": "stream",
          "name": "stdout",
          "text": [
            "  (Right)\n",
            "\u001b[41mS\u001b[0mFFF\n",
            "FHFH\n",
            "FFFH\n",
            "HFFG\n",
            "0 - Still Alive!\n",
            "  (Down)\n",
            "S\u001b[41mF\u001b[0mFF\n",
            "FHFH\n",
            "FFFH\n",
            "HFFG\n",
            "1 - Still Alive!\n",
            "  (Left)\n",
            "S\u001b[41mF\u001b[0mFF\n",
            "FHFH\n",
            "FFFH\n",
            "HFFG\n",
            "1 - Still Alive!\n",
            "  (Up)\n",
            "\u001b[41mS\u001b[0mFFF\n",
            "FHFH\n",
            "FFFH\n",
            "HFFG\n",
            "0 - Still Alive!\n",
            "  (Right)\n",
            "SFFF\n",
            "\u001b[41mF\u001b[0mHFH\n",
            "FFFH\n",
            "HFFG\n",
            "4 - Still Alive!\n",
            "  (Down)\n",
            "SFFF\n",
            "F\u001b[41mH\u001b[0mFH\n",
            "FFFH\n",
            "HFFG\n",
            "5 - Game Over!\n",
            "mapping\n",
            "{0: 0, 4: 1, 8: 2, 12: 3, 1: 4, 5: 5}\n",
            "q_table\n",
            "[[ 0.      -0.00271 -0.00271  0.     ]\n",
            " [-0.0019  -0.1     -0.001    0.     ]\n",
            " [-0.1      0.       0.       0.     ]\n",
            " [ 0.       0.       0.       0.     ]\n",
            " [-0.09181  0.       0.      -0.001  ]\n",
            " [ 0.       0.       0.       0.     ]]\n"
          ]
        }
      ],
      "source": [
        "q_table, q_map = play_game(q_table, q_map, random_rate, render=True)\n",
        "print_q(q_table, q_map)"
      ]
    },
    {
      "cell_type": "markdown",
      "metadata": {
        "id": "KtVVbVQr3bqH"
      },
      "source": [
        "Unless the gumdrop was incredibly lucky, chances were, it fell in some death water. Q-learning is markedly different from Value Iteration or Policy Iteration in that it attempts to simulate how an animal learns in unknown situations. Since the layout of the lake is unknown to the Gumdrop, it doesn't know which states are death holes, and which ones are safe. Because of this, it's going to make many mistakes before it can start making successes.\n",
        "\n",
        "Feel free to run the above cell multiple times to see how the gumdrop steps through trial and error. When you're ready, run the below cell to have the gumdrop play 1000 times."
      ]
    },
    {
      "cell_type": "code",
      "execution_count": null,
      "metadata": {
        "id": "VzPuNg8A3bqH",
        "colab": {
          "base_uri": "https://localhost:8080/"
        },
        "outputId": "d2116094-1048-47e3-a348-9d8d082c6195"
      },
      "outputs": [
        {
          "output_type": "stream",
          "name": "stdout",
          "text": [
            "mapping\n",
            "{0: 0, 4: 1, 8: 2, 12: 3, 1: 4, 5: 5, 2: 6, 6: 7, 7: 8, 9: 9, 13: 10, 3: 11, 10: 12, 14: 13, 15: 14, 11: 15}\n",
            "q_table\n",
            "[[-0.0942207  -0.21040799 -0.20957451 -0.21164966]\n",
            " [-0.10939845 -0.40829413 -0.44104744 -0.38076344]\n",
            " [-0.34861247 -0.42093131 -0.34932338 -0.0293924 ]\n",
            " [ 0.          0.          0.          0.        ]\n",
            " [-0.37081816 -0.37788538 -0.52945179 -0.08715038]\n",
            " [ 0.          0.          0.          0.        ]\n",
            " [-0.26847194 -0.25704672 -0.27669352 -0.09907793]\n",
            " [-0.6789824  -0.68765149 -0.51530371 -0.68235426]\n",
            " [ 0.          0.          0.          0.        ]\n",
            " [-0.12507342  0.0849111  -0.19316304 -0.5090945 ]\n",
            " [-0.30083406 -0.55029931  0.25076699 -0.3399973 ]\n",
            " [-0.32514993 -0.41481659 -0.34024125 -0.10319437]\n",
            " [ 0.00601255 -0.2536363  -0.25473771 -0.25065399]\n",
            " [ 0.14294854  0.63686962  0.24561681  0.23646608]\n",
            " [ 0.          0.          0.          0.        ]\n",
            " [ 0.          0.          0.          0.        ]]\n"
          ]
        },
        {
          "output_type": "execute_result",
          "data": {
            "text/plain": [
              "4.317124741065784e-05"
            ]
          },
          "metadata": {},
          "execution_count": 61
        }
      ],
      "source": [
        "for _ in range(1000):\n",
        "    q_table, q_map = play_game(q_table, q_map, random_rate)\n",
        "    random_rate = random_rate * .99\n",
        "print_q(q_table, q_map)\n",
        "random_rate"
      ]
    },
    {
      "cell_type": "markdown",
      "metadata": {
        "id": "nD5y9Z0T3bqH"
      },
      "source": [
        "Cats have nine lives, our Gumdrop lived a thousand! Moment of truth. Can it get out of the lake now that it matters?"
      ]
    },
    {
      "cell_type": "code",
      "execution_count": null,
      "metadata": {
        "id": "0gJx6hWB3bqH",
        "colab": {
          "base_uri": "https://localhost:8080/"
        },
        "outputId": "92ee5e9d-2a83-4582-fe75-8126cc734b44"
      },
      "outputs": [
        {
          "output_type": "stream",
          "name": "stdout",
          "text": [
            "  (Left)\n",
            "SFFF\n",
            "\u001b[41mF\u001b[0mHFH\n",
            "FFFH\n",
            "HFFG\n",
            "4 - Still Alive!\n",
            "  (Left)\n",
            "\u001b[41mS\u001b[0mFFF\n",
            "FHFH\n",
            "FFFH\n",
            "HFFG\n",
            "0 - Still Alive!\n",
            "  (Left)\n",
            "\u001b[41mS\u001b[0mFFF\n",
            "FHFH\n",
            "FFFH\n",
            "HFFG\n",
            "0 - Still Alive!\n",
            "  (Left)\n",
            "\u001b[41mS\u001b[0mFFF\n",
            "FHFH\n",
            "FFFH\n",
            "HFFG\n",
            "0 - Still Alive!\n",
            "  (Left)\n",
            "\u001b[41mS\u001b[0mFFF\n",
            "FHFH\n",
            "FFFH\n",
            "HFFG\n",
            "0 - Still Alive!\n",
            "  (Left)\n",
            "\u001b[41mS\u001b[0mFFF\n",
            "FHFH\n",
            "FFFH\n",
            "HFFG\n",
            "0 - Still Alive!\n",
            "  (Left)\n",
            "SFFF\n",
            "\u001b[41mF\u001b[0mHFH\n",
            "FFFH\n",
            "HFFG\n",
            "4 - Still Alive!\n",
            "  (Left)\n",
            "SFFF\n",
            "\u001b[41mF\u001b[0mHFH\n",
            "FFFH\n",
            "HFFG\n",
            "4 - Still Alive!\n",
            "  (Left)\n",
            "\u001b[41mS\u001b[0mFFF\n",
            "FHFH\n",
            "FFFH\n",
            "HFFG\n",
            "0 - Still Alive!\n",
            "  (Left)\n",
            "SFFF\n",
            "\u001b[41mF\u001b[0mHFH\n",
            "FFFH\n",
            "HFFG\n",
            "4 - Still Alive!\n",
            "  (Left)\n",
            "\u001b[41mS\u001b[0mFFF\n",
            "FHFH\n",
            "FFFH\n",
            "HFFG\n",
            "0 - Still Alive!\n",
            "  (Left)\n",
            "\u001b[41mS\u001b[0mFFF\n",
            "FHFH\n",
            "FFFH\n",
            "HFFG\n",
            "0 - Still Alive!\n",
            "  (Left)\n",
            "\u001b[41mS\u001b[0mFFF\n",
            "FHFH\n",
            "FFFH\n",
            "HFFG\n",
            "0 - Still Alive!\n",
            "  (Left)\n",
            "\u001b[41mS\u001b[0mFFF\n",
            "FHFH\n",
            "FFFH\n",
            "HFFG\n",
            "0 - Still Alive!\n",
            "  (Left)\n",
            "\u001b[41mS\u001b[0mFFF\n",
            "FHFH\n",
            "FFFH\n",
            "HFFG\n",
            "0 - Still Alive!\n",
            "  (Left)\n",
            "\u001b[41mS\u001b[0mFFF\n",
            "FHFH\n",
            "FFFH\n",
            "HFFG\n",
            "0 - Still Alive!\n",
            "  (Left)\n",
            "SFFF\n",
            "\u001b[41mF\u001b[0mHFH\n",
            "FFFH\n",
            "HFFG\n",
            "4 - Still Alive!\n",
            "  (Left)\n",
            "SFFF\n",
            "FHFH\n",
            "\u001b[41mF\u001b[0mFFH\n",
            "HFFG\n",
            "8 - Still Alive!\n",
            "  (Up)\n",
            "SFFF\n",
            "FHFH\n",
            "F\u001b[41mF\u001b[0mFH\n",
            "HFFG\n",
            "9 - Still Alive!\n",
            "  (Down)\n",
            "SFFF\n",
            "FHFH\n",
            "FF\u001b[41mF\u001b[0mH\n",
            "HFFG\n",
            "10 - Still Alive!\n",
            "  (Left)\n",
            "SFFF\n",
            "FHFH\n",
            "FFFH\n",
            "HF\u001b[41mF\u001b[0mG\n",
            "14 - Still Alive!\n",
            "  (Down)\n",
            "SFFF\n",
            "FHFH\n",
            "FFFH\n",
            "HF\u001b[41mF\u001b[0mG\n",
            "14 - Still Alive!\n",
            "  (Down)\n",
            "SFFF\n",
            "FHFH\n",
            "FFFH\n",
            "HFF\u001b[41mG\u001b[0m\n",
            "15 - Cocoa Time!\n"
          ]
        }
      ],
      "source": [
        "q_table, q_map = play_game(q_table, q_map, 0, render=True)"
      ]
    },
    {
      "cell_type": "markdown",
      "metadata": {
        "id": "_pNpanEn3bqI"
      },
      "source": [
        "Third time's the charm!\n",
        "\n",
        "Each of these techniques has its pros and cons. For instance, while Value Iteration is the mathematically correct solution, it's not as time efficient at Policy Iteration or as flexible as Q-Learning.\n",
        "\n",
        "| |Value Iteration|Policy Iteration|Q Tables|\n",
        "|-|-|-|-|\n",
        "|Avoids locally optimal routes|✓|x|x|\n",
        "|On-policy (greedy)|✓|✓|x|\n",
        "|Model Free|x|x|✓|\n",
        "|Most time efficient|x|✓|x|\n",
        "\n",
        "Congratulations on making it through to the end. Now if you ever fall on a Frozen Lake, you'll have many different ways to calculate your survival. The gumdrop thank you!\n",
        "\n",
        "<img src=\"https://github.com/Toefinder/MLDA/blob/main/ReinforcementLearning2021/images/end.jpg?raw=1\" width=\"178\" height=\"234\">"
      ]
    },
    {
      "cell_type": "markdown",
      "metadata": {
        "id": "DnbC6bAt3bqI"
      },
      "source": [
        "Copyright 2020 Google Inc.\n",
        "Licensed under the Apache License, Version 2.0 (the \"License\"); you may not use this file except in compliance with the License. You may obtain a copy of the License at\n",
        "http://www.apache.org/licenses/LICENSE-2.0\n",
        "Unless required by applicable law or agreed to in writing, software distributed under the License is distributed on an \"AS IS\" BASIS, WITHOUT WARRANTIES OR CONDITIONS OF ANY KIND, either express or implied. See the License for the specific language governing permissions and limitations under the License."
      ]
    }
  ],
  "metadata": {
    "kernelspec": {
      "display_name": "Python 3",
      "language": "python",
      "name": "python3"
    },
    "language_info": {
      "codemirror_mode": {
        "name": "ipython",
        "version": 3
      },
      "file_extension": ".py",
      "mimetype": "text/x-python",
      "name": "python",
      "nbconvert_exporter": "python",
      "pygments_lexer": "ipython3",
      "version": "3.7.6"
    },
    "colab": {
      "name": "EarlyReinforcementLearning.ipynb",
      "provenance": [],
      "collapsed_sections": []
    }
  },
  "nbformat": 4,
  "nbformat_minor": 0
}