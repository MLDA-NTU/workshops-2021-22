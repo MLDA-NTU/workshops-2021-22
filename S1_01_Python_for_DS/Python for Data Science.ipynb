{
 "cells": [
  {
   "cell_type": "code",
   "execution_count": null,
   "id": "364e1afb",
   "metadata": {},
   "outputs": [],
   "source": [
    "print(\"Welcome to Python for Data Science\")\n",
    "print(2021)"
   ]
  },
  {
   "cell_type": "code",
   "execution_count": null,
   "id": "800a7c69",
   "metadata": {},
   "outputs": [],
   "source": [
    "x=13.3\n",
    "y=16\n",
    "print(x)\n",
    "print(y)"
   ]
  },
  {
   "cell_type": "code",
   "execution_count": null,
   "id": "b1460d09",
   "metadata": {},
   "outputs": [],
   "source": [
    "x=100\n",
    "y=y+x\n",
    "print(x)\n",
    "print(y)"
   ]
  },
  {
   "cell_type": "code",
   "execution_count": null,
   "id": "7756f1ad",
   "metadata": {},
   "outputs": [],
   "source": [
    "x=1+2**3/4*5\n",
    "print(x)"
   ]
  },
  {
   "cell_type": "code",
   "execution_count": null,
   "id": "d832007c",
   "metadata": {},
   "outputs": [],
   "source": [
    "sum = 1 + 2\n",
    "greeting = \"Hello\" + \" Python Beginner!\"\n",
    "\n",
    "print(sum)\n",
    "print(greeting)\n",
    "\n",
    "type(greeting)"
   ]
  },
  {
   "cell_type": "code",
   "execution_count": null,
   "id": "1a69da25",
   "metadata": {},
   "outputs": [],
   "source": [
    "greeting = greeting + 2\n",
    "print(greeting)"
   ]
  },
  {
   "cell_type": "code",
   "execution_count": null,
   "id": "52cd18a9",
   "metadata": {},
   "outputs": [],
   "source": [
    "i = 3/2\n",
    "print(i)\n",
    "\n",
    "j = 5 + 3\n",
    "print(j)\n",
    "\n",
    "print(float(j))"
   ]
  },
  {
   "cell_type": "code",
   "execution_count": null,
   "id": "60d81dba",
   "metadata": {},
   "outputs": [],
   "source": [
    "strng = \"1234\"\n",
    "print(strng + 2)"
   ]
  },
  {
   "cell_type": "code",
   "execution_count": null,
   "id": "2c1df1dc",
   "metadata": {},
   "outputs": [],
   "source": [
    "numval = int(strng)\n",
    "total = 2 + numval\n",
    "print(total)"
   ]
  },
  {
   "cell_type": "code",
   "execution_count": null,
   "id": "d9f23e55",
   "metadata": {},
   "outputs": [],
   "source": [
    "askuser = input(\"Who are you? \")\n",
    "print(\"Hello\", askuser)"
   ]
  },
  {
   "cell_type": "code",
   "execution_count": null,
   "id": "6d2297a0",
   "metadata": {},
   "outputs": [],
   "source": [
    "milenum = input(\"Mile(s) to kilometer(s): \")\n",
    "kilonum = milenum*1.60934\n",
    "#kilonum = float(milenum)*1.60934\n",
    "print(kilonum)"
   ]
  },
  {
   "cell_type": "code",
   "execution_count": null,
   "id": "a1652221",
   "metadata": {},
   "outputs": [],
   "source": [
    "def computepay(h, r):\n",
    "    if h > 40:\n",
    "        d = h-40\n",
    "        pay = (1.5*r*d) + (r*40)\n",
    "    else:\n",
    "        pay = h*r\n",
    "    return pay\n",
    "\n",
    "hrs = input(\"Enter Hours:\")\n",
    "h = float(hrs)\n",
    "rate = input(\"Enter hourly rate:\")\n",
    "r = float(rate)\n",
    "p = computepay(h, r)\n",
    "print(\"Pay\", p)"
   ]
  },
  {
   "cell_type": "code",
   "execution_count": null,
   "id": "06563f1c",
   "metadata": {},
   "outputs": [],
   "source": [
    "score = input(\"Enter Score: \")\n",
    "try:\n",
    "    sc = float(score)\n",
    "except:\n",
    "    print('Please enter a numerical value')\n",
    "    score = input(\"Enter Score: \")\n",
    "if sc >= 0.9:\n",
    "    print('A')\n",
    "elif sc >= 0.8:\n",
    "    print('B')\n",
    "elif sc >= 0.7:\n",
    "    print('C')\n",
    "elif sc >= 0.6:\n",
    "    print('D')\n",
    "else:\n",
    "    print('F')"
   ]
  },
  {
   "cell_type": "code",
   "execution_count": null,
   "id": "2b6e27a5",
   "metadata": {},
   "outputs": [],
   "source": [
    "numlist = [0,1,2,3,4,5]\n",
    "#numlist[0:]\n",
    "numlist[:]\n",
    "numlist[2:5]"
   ]
  },
  {
   "cell_type": "code",
   "execution_count": null,
   "id": "5347148a",
   "metadata": {},
   "outputs": [],
   "source": [
    "tupl3 = (98, \"coding\",(9,4))\n",
    "tupl4[2]\n",
    "tupl2 = (100, \"Python\")\n",
    "tupl5 = tupl3 +tupl2\n",
    "tupl5[0:]\n",
    "tupl5[5] = \"tu\"\n",
    "tupl5[5]"
   ]
  },
  {
   "cell_type": "code",
   "execution_count": 48,
   "id": "41675075",
   "metadata": {},
   "outputs": [
    {
     "name": "stdout",
     "output_type": "stream",
     "text": [
      "1\n",
      "2\n",
      "3\n",
      "4\n",
      "5\n",
      "6\n"
     ]
    }
   ],
   "source": [
    "i = 1\n",
    "for i in range(6):\n",
    "  print(i+1)"
   ]
  },
  {
   "cell_type": "code",
   "execution_count": 47,
   "id": "72dab157",
   "metadata": {},
   "outputs": [
    {
     "name": "stdout",
     "output_type": "stream",
     "text": [
      "1\n",
      "2\n",
      "3\n"
     ]
    }
   ],
   "source": [
    "tup1 = [\"red\",\"blue\", \"green\"]\n",
    "j=1\n",
    "for i in tup1:\n",
    "  print(j)\n",
    "  j +=1"
   ]
  },
  {
   "cell_type": "code",
   "execution_count": 49,
   "id": "ea930d87",
   "metadata": {},
   "outputs": [
    {
     "name": "stdout",
     "output_type": "stream",
     "text": [
      "1\n",
      "2\n",
      "3\n",
      "4\n",
      "5\n",
      "6\n"
     ]
    }
   ],
   "source": [
    "i = 1\n",
    "while i <= 6:\n",
    "  print(i)\n",
    "  i += 1"
   ]
  },
  {
   "cell_type": "code",
   "execution_count": null,
   "id": "f37efb36",
   "metadata": {},
   "outputs": [],
   "source": []
  }
 ],
 "metadata": {
  "kernelspec": {
   "display_name": "Python 3",
   "language": "python",
   "name": "python3"
  },
  "language_info": {
   "codemirror_mode": {
    "name": "ipython",
    "version": 3
   },
   "file_extension": ".py",
   "mimetype": "text/x-python",
   "name": "python",
   "nbconvert_exporter": "python",
   "pygments_lexer": "ipython3",
   "version": "3.8.8"
  }
 },
 "nbformat": 4,
 "nbformat_minor": 5
}
